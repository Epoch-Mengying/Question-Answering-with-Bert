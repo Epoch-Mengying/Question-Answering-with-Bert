{
 "cells": [
  {
   "cell_type": "code",
   "execution_count": 1,
   "metadata": {
    "collapsed": true
   },
   "outputs": [],
   "source": [
    "from multiprocessing import Pool\n",
    "from tqdm import tqdm_notebook, tqdm\n",
    "import random\n",
    "import json\n",
    "\n",
    "import numpy as np\n",
    "import pandas as pd\n",
    "import gc"
   ]
  },
  {
   "cell_type": "code",
   "execution_count": 311,
   "metadata": {},
   "outputs": [
    {
     "name": "stderr",
     "output_type": "stream",
     "text": [
      "100%|██████████| 60000/60000 [01:27<00:00, 686.70it/s] \n"
     ]
    },
    {
     "name": "stdout",
     "output_type": "stream",
     "text": [
      "Our sampled dataset have 60000 rows and 6 columns\n"
     ]
    }
   ],
   "source": [
    "#path = 'C:/Users/zhangmen/Downloads/QA_Google/data'\n",
    "path = '/Users/Mengying/Desktop/QA_Google/data/'\n",
    "train_path = 'simplified-nq-train.jsonl'\n",
    "test_path = 'simplified-nq-test.jsonl'\n",
    "sample_submission_path = 'sample_submission.csv'\n",
    "\n",
    "def read_data(path, sample = True, chunksize = 307373): # 307373\n",
    "    if sample == True:\n",
    "        df = []\n",
    "\n",
    "        with open(path, 'rt') as reader:\n",
    "            for i in tqdm(range(chunksize), position=0, leave=True):\n",
    "                info = json.loads(reader.readline())\n",
    "                #if info['annotations'][0]['yes_no_answer'] != 'NONE':\n",
    "                df.append(info)\n",
    "                                \n",
    "        df = pd.DataFrame(df)\n",
    "       \n",
    "        print('Our sampled dataset have {} rows and {} columns'.format(df.shape[0], df.shape[1]))\n",
    "    else:\n",
    "        df = pd.read_json(path, orient = 'records', lines = True,dtype = {'example_id':'int64'}).set_index('example_id')\n",
    "        #reset index\n",
    "        df.reset_index(level=0, inplace=True)\n",
    "        print('Our dataset have {} rows and {} columns'.format(df.shape[0], df.shape[1]))\n",
    "        gc.collect()\n",
    "    return df\n",
    "\n",
    "train = read_data(path+train_path, sample = True,chunksize =60000 ) # first 60k\n",
    "#train = read_data(path+train_path, sample = True) # first 500k\n",
    "#dev = read_data(path+train_path, sample = True,chunksize =1000 ) # first 10k\n",
    "#test = read_data(path+test_path, sample = False)\n",
    "#train.head()\n",
    "#print(train.columns)"
   ]
  },
  {
   "cell_type": "code",
   "execution_count": 30,
   "metadata": {},
   "outputs": [],
   "source": [
    "# read in processed short version\n",
    "#train = pd.read_csv(path+\"long_df_30kobs.csv\")"
   ]
  },
  {
   "cell_type": "code",
   "execution_count": 295,
   "metadata": {},
   "outputs": [
    {
     "data": {
      "text/html": [
       "<div>\n",
       "<style scoped>\n",
       "    .dataframe tbody tr th:only-of-type {\n",
       "        vertical-align: middle;\n",
       "    }\n",
       "\n",
       "    .dataframe tbody tr th {\n",
       "        vertical-align: top;\n",
       "    }\n",
       "\n",
       "    .dataframe thead th {\n",
       "        text-align: right;\n",
       "    }\n",
       "</style>\n",
       "<table border=\"1\" class=\"dataframe\">\n",
       "  <thead>\n",
       "    <tr style=\"text-align: right;\">\n",
       "      <th></th>\n",
       "      <th>annotations</th>\n",
       "      <th>document_text</th>\n",
       "      <th>document_url</th>\n",
       "      <th>example_id</th>\n",
       "      <th>long_answer_candidates</th>\n",
       "      <th>question_text</th>\n",
       "    </tr>\n",
       "  </thead>\n",
       "  <tbody>\n",
       "    <tr>\n",
       "      <th>0</th>\n",
       "      <td>[{'yes_no_answer': 'YES', 'long_answer': {'sta...</td>\n",
       "      <td>Berlin Station ( TV series ) - wikipedia &lt;H1&gt; ...</td>\n",
       "      <td>https://en.wikipedia.org//w/index.php?title=Be...</td>\n",
       "      <td>8609375096218900192</td>\n",
       "      <td>[{'start_token': 16, 'top_level': True, 'end_t...</td>\n",
       "      <td>is there a season 3 of berlin station</td>\n",
       "    </tr>\n",
       "  </tbody>\n",
       "</table>\n",
       "</div>"
      ],
      "text/plain": [
       "                                         annotations  \\\n",
       "0  [{'yes_no_answer': 'YES', 'long_answer': {'sta...   \n",
       "\n",
       "                                       document_text  \\\n",
       "0  Berlin Station ( TV series ) - wikipedia <H1> ...   \n",
       "\n",
       "                                        document_url           example_id  \\\n",
       "0  https://en.wikipedia.org//w/index.php?title=Be...  8609375096218900192   \n",
       "\n",
       "                              long_answer_candidates  \\\n",
       "0  [{'start_token': 16, 'top_level': True, 'end_t...   \n",
       "\n",
       "                           question_text  \n",
       "0  is there a season 3 of berlin station  "
      ]
     },
     "execution_count": 295,
     "metadata": {},
     "output_type": "execute_result"
    }
   ],
   "source": [
    "train.head(1)"
   ]
  },
  {
   "cell_type": "code",
   "execution_count": 5,
   "metadata": {},
   "outputs": [
    {
     "data": {
      "text/plain": [
       "document_text             Email marketing - Wikipedia <H1> Email marketi...\n",
       "long_answer_candidates    [{'start_token': 14, 'top_level': True, 'end_t...\n",
       "question_text             which is the most common use of opt-in e-mail ...\n",
       "annotations               [{'yes_no_answer': 'NONE', 'long_answer': {'st...\n",
       "document_url              https://en.wikipedia.org//w/index.php?title=Em...\n",
       "example_id                                              5655493461695504401\n",
       "Name: 0, dtype: object"
      ]
     },
     "execution_count": 5,
     "metadata": {},
     "output_type": "execute_result"
    }
   ],
   "source": [
    "train.iloc[0,:]"
   ]
  },
  {
   "cell_type": "code",
   "execution_count": 9,
   "metadata": {
    "collapsed": true
   },
   "outputs": [
    {
     "data": {
      "text/html": [
       "<div>\n",
       "<style scoped>\n",
       "    .dataframe tbody tr th:only-of-type {\n",
       "        vertical-align: middle;\n",
       "    }\n",
       "\n",
       "    .dataframe tbody tr th {\n",
       "        vertical-align: top;\n",
       "    }\n",
       "\n",
       "    .dataframe thead th {\n",
       "        text-align: right;\n",
       "    }\n",
       "</style>\n",
       "<table border=\"1\" class=\"dataframe\">\n",
       "  <thead>\n",
       "    <tr style=\"text-align: right;\">\n",
       "      <th></th>\n",
       "      <th>features</th>\n",
       "      <th>n_missing_values</th>\n",
       "    </tr>\n",
       "  </thead>\n",
       "  <tbody>\n",
       "    <tr>\n",
       "      <th>0</th>\n",
       "      <td>document_text</td>\n",
       "      <td>0</td>\n",
       "    </tr>\n",
       "    <tr>\n",
       "      <th>1</th>\n",
       "      <td>long_answer_candidates</td>\n",
       "      <td>0</td>\n",
       "    </tr>\n",
       "    <tr>\n",
       "      <th>2</th>\n",
       "      <td>question_text</td>\n",
       "      <td>0</td>\n",
       "    </tr>\n",
       "    <tr>\n",
       "      <th>3</th>\n",
       "      <td>annotations</td>\n",
       "      <td>0</td>\n",
       "    </tr>\n",
       "    <tr>\n",
       "      <th>4</th>\n",
       "      <td>document_url</td>\n",
       "      <td>0</td>\n",
       "    </tr>\n",
       "    <tr>\n",
       "      <th>5</th>\n",
       "      <td>example_id</td>\n",
       "      <td>0</td>\n",
       "    </tr>\n",
       "  </tbody>\n",
       "</table>\n",
       "</div>"
      ],
      "text/plain": [
       "                 features  n_missing_values\n",
       "0           document_text                 0\n",
       "1  long_answer_candidates                 0\n",
       "2           question_text                 0\n",
       "3             annotations                 0\n",
       "4            document_url                 0\n",
       "5              example_id                 0"
      ]
     },
     "execution_count": 9,
     "metadata": {},
     "output_type": "execute_result"
    }
   ],
   "source": [
    "# Missing value investigation\n",
    "def missing_values(df):\n",
    "    df = pd.DataFrame(df.isnull().sum()).reset_index()\n",
    "    df.columns = ['features', 'n_missing_values']\n",
    "    return df\n",
    "missing_values(train)"
   ]
  },
  {
   "cell_type": "markdown",
   "metadata": {},
   "source": [
    "### Prepare a clean dataset(for long answer only)\n",
    "Each row is a paragraph and a question and an answer match, with 1 indicating True, 0 indicating False."
   ]
  },
  {
   "cell_type": "code",
   "execution_count": 10,
   "metadata": {
    "collapsed": true
   },
   "outputs": [],
   "source": [
    "COLUMNS_LONG = [\"paragraph\",\"question\",\"is_answer\",\"example_id\"]"
   ]
  },
  {
   "cell_type": "code",
   "execution_count": 116,
   "metadata": {
    "collapsed": true
   },
   "outputs": [],
   "source": [
    "def process_df_for_long(df, train=1):\n",
    "    # train: 1 for train, 2 for dev, 3 for test\n",
    "    def process_row(row):\n",
    "        ids = row.example_id\n",
    "        q = row.question_text\n",
    "        p = row.document_text.split()\n",
    "        \n",
    "        if train==1 or train == 2:\n",
    "            long_answer_dict = row.annotations[0]['long_answer']\n",
    "            answer_text = \" \".join(p[long_answer_dict['start_token']:long_answer_dict['end_token']])\n",
    "\n",
    "            if answer_text == \"\":  # no long answer\n",
    "                rows_to_add = []\n",
    "            else:\n",
    "                rows_to_add = [[answer_text, q, 1, ids]]\n",
    "        else:\n",
    "            rows_to_add = []\n",
    "        \n",
    "        candidates_dict_list = row.long_answer_candidates\n",
    "        \n",
    "        # train=1: only add negative example limit times for those with answer only\n",
    "        # train=2: add negative example limit times for all articles\n",
    "        # train=3: add all candidates\n",
    "        if (train == 1 and rows_to_add) or train == 2 or train == 3:\n",
    "            random.shuffle(candidates_dict_list)\n",
    "            if train == 1 or train == 2:\n",
    "                limit = 2                \n",
    "            else:\n",
    "                limit = len(candidates_dict_list)\n",
    "            \n",
    "            neg = 0\n",
    "\n",
    "            for i in candidates_dict_list:\n",
    "                if (train == 1 or train == 2) and i['start_token'] == long_answer_dict['start_token'] and i['end_token'] == long_answer_dict['end_token']: continue\n",
    "                candidate_text = \" \".join(p[i['start_token']:i['end_token']])\n",
    "                if train == 3:\n",
    "                    rows_to_add.append([candidate_text, q, \"{}:{}\".format(i['start_token'],i['end_token']), ids])\n",
    "                else:\n",
    "                    rows_to_add.append([candidate_text, q, 0, ids])\n",
    "                neg += 1\n",
    "                if neg == limit: break\n",
    "\n",
    "\n",
    "\n",
    "        temp_df = pd.DataFrame(rows_to_add,columns=COLUMNS_LONG)\n",
    "        return temp_df\n",
    "    \n",
    "    temp_df_list = []\n",
    "    for _, row in df.iterrows():\n",
    "        temp_df_list.append(process_row(row))\n",
    "        \n",
    "    \n",
    "    # concatenate all at the very end\n",
    "    return pd.concat(temp_df_list,ignore_index=True)   "
   ]
  },
  {
   "cell_type": "code",
   "execution_count": 67,
   "metadata": {},
   "outputs": [
    {
     "name": "stdout",
     "output_type": "stream",
     "text": [
      "long_df dimension:  (44821, 4)\n"
     ]
    }
   ],
   "source": [
    "# read in parallize form\n",
    "# def parallelize_dataframe(df, func, n_cores=2):\n",
    "#     df_split = np.array_split(df, n_cores)\n",
    "#     pool = Pool(n_cores)\n",
    "#     df = pd.concat(pool.map(func, df_split))\n",
    "#     pool.close()\n",
    "#     pool.join()\n",
    "#     return df\n",
    "\n",
    "# long_df = parallelize_dataframe(train, process_df_for_long)\n",
    "# print(\"long_df dimension: \", long_df.shape )\n",
    "\n",
    "random.seed(9001)\n",
    "long_df = process_df_for_long(train)\n",
    "print(\"long_df dimension: \", long_df.shape )"
   ]
  },
  {
   "cell_type": "code",
   "execution_count": 16,
   "metadata": {},
   "outputs": [
    {
     "data": {
      "text/html": [
       "<div>\n",
       "<style scoped>\n",
       "    .dataframe tbody tr th:only-of-type {\n",
       "        vertical-align: middle;\n",
       "    }\n",
       "\n",
       "    .dataframe tbody tr th {\n",
       "        vertical-align: top;\n",
       "    }\n",
       "\n",
       "    .dataframe thead th {\n",
       "        text-align: right;\n",
       "    }\n",
       "</style>\n",
       "<table border=\"1\" class=\"dataframe\">\n",
       "  <thead>\n",
       "    <tr style=\"text-align: right;\">\n",
       "      <th></th>\n",
       "      <th>paragraph</th>\n",
       "      <th>question</th>\n",
       "      <th>is_answer</th>\n",
       "      <th>example_id</th>\n",
       "    </tr>\n",
       "  </thead>\n",
       "  <tbody>\n",
       "    <tr>\n",
       "      <th>0</th>\n",
       "      <td>&lt;P&gt; A common example of permission marketing i...</td>\n",
       "      <td>which is the most common use of opt-in e-mail ...</td>\n",
       "      <td>1</td>\n",
       "      <td>5655493461695504401</td>\n",
       "    </tr>\n",
       "    <tr>\n",
       "      <th>1</th>\n",
       "      <td>&lt;P&gt; There are both advantages and disadvantage...</td>\n",
       "      <td>which is the most common use of opt-in e-mail ...</td>\n",
       "      <td>0</td>\n",
       "      <td>5655493461695504401</td>\n",
       "    </tr>\n",
       "    <tr>\n",
       "      <th>2</th>\n",
       "      <td>&lt;P&gt; Email marketing is popular with companies ...</td>\n",
       "      <td>which is the most common use of opt-in e-mail ...</td>\n",
       "      <td>0</td>\n",
       "      <td>5655493461695504401</td>\n",
       "    </tr>\n",
       "    <tr>\n",
       "      <th>3</th>\n",
       "      <td>&lt;P&gt; Tracy McConnell , better known as `` The M...</td>\n",
       "      <td>how i.met your mother who is the mother</td>\n",
       "      <td>1</td>\n",
       "      <td>5328212470870865242</td>\n",
       "    </tr>\n",
       "    <tr>\n",
       "      <th>4</th>\n",
       "      <td>&lt;P&gt; Some time after this , a man named Darren ...</td>\n",
       "      <td>how i.met your mother who is the mother</td>\n",
       "      <td>0</td>\n",
       "      <td>5328212470870865242</td>\n",
       "    </tr>\n",
       "    <tr>\n",
       "      <th>5</th>\n",
       "      <td>&lt;P&gt; The story of how Ted met The Mother is the...</td>\n",
       "      <td>how i.met your mother who is the mother</td>\n",
       "      <td>0</td>\n",
       "      <td>5328212470870865242</td>\n",
       "    </tr>\n",
       "    <tr>\n",
       "      <th>6</th>\n",
       "      <td>&lt;P&gt; The process of fertilization involves a sp...</td>\n",
       "      <td>what type of fertilisation takes place in humans</td>\n",
       "      <td>1</td>\n",
       "      <td>4435104480114867852</td>\n",
       "    </tr>\n",
       "    <tr>\n",
       "      <th>7</th>\n",
       "      <td>&lt;P&gt; The fusion of cell membranes of the second...</td>\n",
       "      <td>what type of fertilisation takes place in humans</td>\n",
       "      <td>0</td>\n",
       "      <td>4435104480114867852</td>\n",
       "    </tr>\n",
       "    <tr>\n",
       "      <th>8</th>\n",
       "      <td>&lt;Tr&gt; &lt;Td&gt; Part of a series on &lt;/Td&gt; &lt;/Tr&gt;</td>\n",
       "      <td>what type of fertilisation takes place in humans</td>\n",
       "      <td>0</td>\n",
       "      <td>4435104480114867852</td>\n",
       "    </tr>\n",
       "    <tr>\n",
       "      <th>9</th>\n",
       "      <td>&lt;P&gt; Active quarterback Tom Brady holds the rec...</td>\n",
       "      <td>who had the most wins in the nfl</td>\n",
       "      <td>1</td>\n",
       "      <td>5289242154789678439</td>\n",
       "    </tr>\n",
       "  </tbody>\n",
       "</table>\n",
       "</div>"
      ],
      "text/plain": [
       "                                           paragraph  \\\n",
       "0  <P> A common example of permission marketing i...   \n",
       "1  <P> There are both advantages and disadvantage...   \n",
       "2  <P> Email marketing is popular with companies ...   \n",
       "3  <P> Tracy McConnell , better known as `` The M...   \n",
       "4  <P> Some time after this , a man named Darren ...   \n",
       "5  <P> The story of how Ted met The Mother is the...   \n",
       "6  <P> The process of fertilization involves a sp...   \n",
       "7  <P> The fusion of cell membranes of the second...   \n",
       "8          <Tr> <Td> Part of a series on </Td> </Tr>   \n",
       "9  <P> Active quarterback Tom Brady holds the rec...   \n",
       "\n",
       "                                            question is_answer  \\\n",
       "0  which is the most common use of opt-in e-mail ...         1   \n",
       "1  which is the most common use of opt-in e-mail ...         0   \n",
       "2  which is the most common use of opt-in e-mail ...         0   \n",
       "3            how i.met your mother who is the mother         1   \n",
       "4            how i.met your mother who is the mother         0   \n",
       "5            how i.met your mother who is the mother         0   \n",
       "6   what type of fertilisation takes place in humans         1   \n",
       "7   what type of fertilisation takes place in humans         0   \n",
       "8   what type of fertilisation takes place in humans         0   \n",
       "9                   who had the most wins in the nfl         1   \n",
       "\n",
       "            example_id  \n",
       "0  5655493461695504401  \n",
       "1  5655493461695504401  \n",
       "2  5655493461695504401  \n",
       "3  5328212470870865242  \n",
       "4  5328212470870865242  \n",
       "5  5328212470870865242  \n",
       "6  4435104480114867852  \n",
       "7  4435104480114867852  \n",
       "8  4435104480114867852  \n",
       "9  5289242154789678439  "
      ]
     },
     "execution_count": 16,
     "metadata": {},
     "output_type": "execute_result"
    }
   ],
   "source": [
    "long_df.head(10)"
   ]
  },
  {
   "cell_type": "code",
   "execution_count": 25,
   "metadata": {},
   "outputs": [
    {
     "data": {
      "text/plain": [
       "\"<P> After searching all day , Chandler hurries back to his apartment and when he gets there , Joey meets him in the hall , claiming Monica has left him because of his commitment issues . When Chandler enters their apartment , afraid of Monica actually leaving , he discovers that it 's far from being abandoned , there are candles lit all over and Monica is kneeling to propose . In the midst of proposing to Chandler , she cries from sheer emotion , saying , `` There 's a reason why girls do n't do this ! '' Instead , Chandler gets on his knees and proposes to her and Monica says yes . They then open the door to Joey , Rachel , and Phoebe , who have been waiting to celebrate . At first , they hesitate , feeling Ross should be there to share the moment , then decide that after three marriages , Ross can afford to miss one engagement celebration . End credits play while Monica and Chandler dance to Eric Clapton 's `` Wonderful Tonight . '' </P>\""
      ]
     },
     "execution_count": 25,
     "metadata": {},
     "output_type": "execute_result"
    }
   ],
   "source": [
    "# inspect a pair of question and answer\n",
    "long_df[(long_df.example_id==3668384117542638462) & (long_df.is_answer==1)].iloc[0,0]"
   ]
  },
  {
   "cell_type": "code",
   "execution_count": 21,
   "metadata": {},
   "outputs": [
    {
     "data": {
      "text/plain": [
       "'the one where chandler and monica get engaged'"
      ]
     },
     "execution_count": 21,
     "metadata": {},
     "output_type": "execute_result"
    }
   ],
   "source": [
    "long_df[(long_df.example_id==3668384117542638462) & (long_df.is_answer==1)].iloc[0,1]"
   ]
  },
  {
   "cell_type": "code",
   "execution_count": 69,
   "metadata": {
    "collapsed": true
   },
   "outputs": [],
   "source": [
    "# save dataset\n",
    "long_df.to_csv(path+\"long_df_30kobs.csv\",index=False)"
   ]
  },
  {
   "cell_type": "markdown",
   "metadata": {},
   "source": [
    "### For dev data to tune cut-off threshold:"
   ]
  },
  {
   "cell_type": "code",
   "execution_count": 99,
   "metadata": {},
   "outputs": [],
   "source": [
    "#long_df_test = pd.read_csv(path+\"long_df_dev.csv\")"
   ]
  },
  {
   "cell_type": "code",
   "execution_count": 108,
   "metadata": {},
   "outputs": [
    {
     "name": "stdout",
     "output_type": "stream",
     "text": [
      "long_df dimension:  (2514, 4)\n"
     ]
    }
   ],
   "source": [
    "random.seed(911)\n",
    "long_df = process_df_for_long(dev, train=2)\n",
    "print(\"long_df dimension: \", long_df.shape )"
   ]
  },
  {
   "cell_type": "code",
   "execution_count": 110,
   "metadata": {
    "collapsed": true
   },
   "outputs": [],
   "source": [
    "# save dataset\n",
    "long_df.to_csv(path+\"long_df_dev.csv\",index=False)"
   ]
  },
  {
   "cell_type": "code",
   "execution_count": null,
   "metadata": {
    "collapsed": true
   },
   "outputs": [],
   "source": [
    "### Prediction on GCP ####"
   ]
  },
  {
   "cell_type": "code",
   "execution_count": 153,
   "metadata": {
    "collapsed": true
   },
   "outputs": [],
   "source": [
    "long_df = pd.read_csv(path+\"long_df_dev_pred.csv\")"
   ]
  },
  {
   "cell_type": "code",
   "execution_count": 158,
   "metadata": {},
   "outputs": [
    {
     "data": {
      "text/html": [
       "<div>\n",
       "<style scoped>\n",
       "    .dataframe tbody tr th:only-of-type {\n",
       "        vertical-align: middle;\n",
       "    }\n",
       "\n",
       "    .dataframe tbody tr th {\n",
       "        vertical-align: top;\n",
       "    }\n",
       "\n",
       "    .dataframe thead th {\n",
       "        text-align: right;\n",
       "    }\n",
       "</style>\n",
       "<table border=\"1\" class=\"dataframe\">\n",
       "  <thead>\n",
       "    <tr style=\"text-align: right;\">\n",
       "      <th></th>\n",
       "      <th>paragraph</th>\n",
       "      <th>question</th>\n",
       "      <th>is_answer</th>\n",
       "      <th>example_id</th>\n",
       "      <th>pred</th>\n",
       "    </tr>\n",
       "  </thead>\n",
       "  <tbody>\n",
       "    <tr>\n",
       "      <th>0</th>\n",
       "      <td>&lt;P&gt; A common example of permission marketing i...</td>\n",
       "      <td>which is the most common use of opt-in e-mail ...</td>\n",
       "      <td>1</td>\n",
       "      <td>5655493461695504401</td>\n",
       "      <td>0.186052</td>\n",
       "    </tr>\n",
       "    <tr>\n",
       "      <th>1</th>\n",
       "      <td>&lt;Table&gt; &lt;Tr&gt; &lt;Td&gt; &lt;/Td&gt; &lt;Td&gt; ( hide ) This art...</td>\n",
       "      <td>which is the most common use of opt-in e-mail ...</td>\n",
       "      <td>0</td>\n",
       "      <td>5655493461695504401</td>\n",
       "      <td>0.505924</td>\n",
       "    </tr>\n",
       "  </tbody>\n",
       "</table>\n",
       "</div>"
      ],
      "text/plain": [
       "                                           paragraph  \\\n",
       "0  <P> A common example of permission marketing i...   \n",
       "1  <Table> <Tr> <Td> </Td> <Td> ( hide ) This art...   \n",
       "\n",
       "                                            question  is_answer  \\\n",
       "0  which is the most common use of opt-in e-mail ...          1   \n",
       "1  which is the most common use of opt-in e-mail ...          0   \n",
       "\n",
       "            example_id      pred  \n",
       "0  5655493461695504401  0.186052  \n",
       "1  5655493461695504401  0.505924  "
      ]
     },
     "execution_count": 158,
     "metadata": {},
     "output_type": "execute_result"
    }
   ],
   "source": [
    "long_df.head(2)"
   ]
  },
  {
   "cell_type": "code",
   "execution_count": 160,
   "metadata": {},
   "outputs": [
    {
     "data": {
      "text/plain": [
       "count    516.000000\n",
       "mean       0.761145\n",
       "std        0.272641\n",
       "min        0.004727\n",
       "25%        0.634844\n",
       "50%        0.889815\n",
       "75%        0.967593\n",
       "max        0.989851\n",
       "Name: pred, dtype: float64"
      ]
     },
     "execution_count": 160,
     "metadata": {},
     "output_type": "execute_result"
    }
   ],
   "source": [
    "long_df[long_df.is_answer==1].pred.describe()"
   ]
  },
  {
   "cell_type": "code",
   "execution_count": 161,
   "metadata": {},
   "outputs": [
    {
     "data": {
      "text/plain": [
       "count    1998.000000\n",
       "mean        0.255769\n",
       "std         0.342755\n",
       "min         0.000982\n",
       "25%         0.007687\n",
       "50%         0.037923\n",
       "75%         0.517315\n",
       "max         0.985978\n",
       "Name: pred, dtype: float64"
      ]
     },
     "execution_count": 161,
     "metadata": {},
     "output_type": "execute_result"
    }
   ],
   "source": [
    "long_df[long_df.is_answer==0].pred.describe()"
   ]
  },
  {
   "cell_type": "code",
   "execution_count": 163,
   "metadata": {},
   "outputs": [
    {
     "data": {
      "image/png": "[encoded data removed]",
      "text/plain": [
       "<Figure size 432x288 with 1 Axes>"
      ]
     },
     "metadata": {
      "needs_background": "light"
     },
     "output_type": "display_data"
    }
   ],
   "source": [
    "from sklearn.metrics import roc_curve\n",
    "from matplotlib import pyplot as plt\n",
    "fpr, tpr, _ = roc_curve(long_df.is_answer, long_df.pred)\n",
    "plt.plot(fpr, tpr)\n",
    "plt.title('ROC curve')\n",
    "plt.xlabel('false positive rate')\n",
    "plt.ylabel('true positive rate')\n",
    "plt.xlim(0,)\n",
    "plt.ylim(0,)\n",
    "plt.show()"
   ]
  },
  {
   "cell_type": "code",
   "execution_count": 165,
   "metadata": {},
   "outputs": [
    {
     "name": "stdout",
     "output_type": "stream",
     "text": [
      "optimal cutoff threshold is: [0.59765285]\n"
     ]
    }
   ],
   "source": [
    "# Find optimal threshold that maximizes accuracy:\n",
    "# The optimal cut off would be where tpr is high and fpr is low\n",
    "# tpr - (1-fpr) is zero or near to zero is the optimal cut off point\n",
    "\n"
   ]
  },
  {
   "cell_type": "markdown",
   "metadata": {},
   "source": [
    "### For submission file:"
   ]
  },
  {
   "cell_type": "code",
   "execution_count": 114,
   "metadata": {},
   "outputs": [
    {
     "data": {
      "text/html": [
       "<div>\n",
       "<style scoped>\n",
       "    .dataframe tbody tr th:only-of-type {\n",
       "        vertical-align: middle;\n",
       "    }\n",
       "\n",
       "    .dataframe tbody tr th {\n",
       "        vertical-align: top;\n",
       "    }\n",
       "\n",
       "    .dataframe thead th {\n",
       "        text-align: right;\n",
       "    }\n",
       "</style>\n",
       "<table border=\"1\" class=\"dataframe\">\n",
       "  <thead>\n",
       "    <tr style=\"text-align: right;\">\n",
       "      <th></th>\n",
       "      <th>example_id</th>\n",
       "      <th>document_text</th>\n",
       "      <th>long_answer_candidates</th>\n",
       "      <th>question_text</th>\n",
       "    </tr>\n",
       "  </thead>\n",
       "  <tbody>\n",
       "    <tr>\n",
       "      <th>0</th>\n",
       "      <td>-1220107454853145579</td>\n",
       "      <td>High Commission of South Africa , London - wik...</td>\n",
       "      <td>[{'end_token': 136, 'start_token': 18, 'top_le...</td>\n",
       "      <td>who is the south african high commissioner in ...</td>\n",
       "    </tr>\n",
       "  </tbody>\n",
       "</table>\n",
       "</div>"
      ],
      "text/plain": [
       "            example_id                                      document_text  \\\n",
       "0 -1220107454853145579  High Commission of South Africa , London - wik...   \n",
       "\n",
       "                              long_answer_candidates  \\\n",
       "0  [{'end_token': 136, 'start_token': 18, 'top_le...   \n",
       "\n",
       "                                       question_text  \n",
       "0  who is the south african high commissioner in ...  "
      ]
     },
     "execution_count": 114,
     "metadata": {},
     "output_type": "execute_result"
    }
   ],
   "source": [
    "test.head(1)"
   ]
  },
  {
   "cell_type": "code",
   "execution_count": 126,
   "metadata": {},
   "outputs": [
    {
     "name": "stdout",
     "output_type": "stream",
     "text": [
      "long_df dimension:  (45163, 4)\n"
     ]
    }
   ],
   "source": [
    "# for test:\n",
    "random.seed(9001)\n",
    "long_df_test = process_df_for_long(test, train=3)\n",
    "print(\"long_df dimension: \", long_df_test.shape ) \n",
    "# Note: originally we can have (45163, 4), which takes too long for prediction. \n",
    "# > Use bi-gram overlap score to minimize prediction pairs."
   ]
  },
  {
   "cell_type": "code",
   "execution_count": 127,
   "metadata": {},
   "outputs": [],
   "source": [
    "# to make consistent, rename the column name\n",
    "long_df_test['PredictionString']= long_df_test['is_answer']\n",
    "long_df_test['is_answer'] = 0"
   ]
  },
  {
   "cell_type": "code",
   "execution_count": 166,
   "metadata": {},
   "outputs": [
    {
     "data": {
      "text/plain": [
       "346"
      ]
     },
     "execution_count": 166,
     "metadata": {},
     "output_type": "execute_result"
    }
   ],
   "source": [
    "len(long_df_test.example_id.unique())"
   ]
  },
  {
   "cell_type": "code",
   "execution_count": 130,
   "metadata": {},
   "outputs": [],
   "source": [
    "# only pass those pairs whose bi-gram overlap > 0\n",
    "def find_bigrams(row):\n",
    "    p = row.paragraph.lower().split()\n",
    "    q = row.question.lower().split()\n",
    "    p_bigram = set(zip(p, p[1:]))\n",
    "    q_bigram = set(zip(q, q[1:]))\n",
    "    return len(p_bigram.intersection(q_bigram)) # output bigram overlap score\n",
    "    \n",
    "\n",
    "long_df_test['bigrams'] = long_df_test.apply(lambda row: find_bigrams(row),axis=1)\n",
    "\n",
    "long_df_test_yes = long_df_test[long_df_test.bigrams > 0]\n",
    "#print(\"long_df_test dimension: \", long_df_test.shape )"
   ]
  },
  {
   "cell_type": "code",
   "execution_count": 135,
   "metadata": {},
   "outputs": [
    {
     "data": {
      "text/plain": [
       "334"
      ]
     },
     "execution_count": 135,
     "metadata": {},
     "output_type": "execute_result"
    }
   ],
   "source": [
    "len(long_df_test_yes.example_id.unique()) # 346 - 334 = 12 articles do not have overlap bigrams"
   ]
  },
  {
   "cell_type": "code",
   "execution_count": 139,
   "metadata": {},
   "outputs": [],
   "source": [
    "yes = long_df_test_yes.example_id.unique()"
   ]
  },
  {
   "cell_type": "code",
   "execution_count": 142,
   "metadata": {},
   "outputs": [],
   "source": [
    "special = long_df_test[~(long_df_test.example_id.isin(yes))]"
   ]
  },
  {
   "cell_type": "code",
   "execution_count": 152,
   "metadata": {},
   "outputs": [
    {
     "data": {
      "text/plain": [
       "'where does barbacoa come from on a cow'"
      ]
     },
     "execution_count": 152,
     "metadata": {},
     "output_type": "execute_result"
    }
   ],
   "source": [
    "special[special.example_id == -66688804835093544].iloc[5,1]"
   ]
  },
  {
   "cell_type": "code",
   "execution_count": 151,
   "metadata": {},
   "outputs": [
    {
     "data": {
      "text/plain": [
       "'<P> In the U.S. , barbacoa is often prepared with parts from the heads of cattle , such as the cheeks . In northern Mexico , it is also sometimes made from beef head , but more often it is prepared from goat meat ( cabrito ) . In central Mexico , the meat of choice is lamb , and in the Yucatan , their traditional version , cochinita pibil ( pit - style pork ) , is prepared with pork . </P>'"
      ]
     },
     "execution_count": 151,
     "metadata": {},
     "output_type": "execute_result"
    }
   ],
   "source": [
    "special[special.example_id == -66688804835093544].iloc[5,0]"
   ]
  },
  {
   "cell_type": "code",
   "execution_count": 125,
   "metadata": {},
   "outputs": [
    {
     "data": {
      "text/plain": [
       "343"
      ]
     },
     "execution_count": 125,
     "metadata": {},
     "output_type": "execute_result"
    }
   ],
   "source": [
    "# ind = 3\n",
    "# p = long_df_test.iloc[ind,0].lower().split()\n",
    "# q = long_df_test.iloc[ind,1].lower().split()\n",
    "# p_bigram = set(zip(p, p[1:]))\n",
    "# q_bigram = set(zip(q, q[1:]))\n",
    "\n",
    "# print(p_bigram.intersection(q_bigram))\n",
    "len(long_df_test.example_id.unique()) # 346 - 334 = 12 articles do not have overlap bigrams"
   ]
  },
  {
   "cell_type": "code",
   "execution_count": 171,
   "metadata": {},
   "outputs": [
    {
     "data": {
      "text/html": [
       "<div>\n",
       "<style scoped>\n",
       "    .dataframe tbody tr th:only-of-type {\n",
       "        vertical-align: middle;\n",
       "    }\n",
       "\n",
       "    .dataframe tbody tr th {\n",
       "        vertical-align: top;\n",
       "    }\n",
       "\n",
       "    .dataframe thead th {\n",
       "        text-align: right;\n",
       "    }\n",
       "</style>\n",
       "<table border=\"1\" class=\"dataframe\">\n",
       "  <thead>\n",
       "    <tr style=\"text-align: right;\">\n",
       "      <th></th>\n",
       "      <th>paragraph</th>\n",
       "      <th>question</th>\n",
       "      <th>is_answer</th>\n",
       "      <th>example_id</th>\n",
       "      <th>PredictionString</th>\n",
       "      <th>bigrams</th>\n",
       "    </tr>\n",
       "  </thead>\n",
       "  <tbody>\n",
       "    <tr>\n",
       "      <th>0</th>\n",
       "      <td>&lt;Table&gt; &lt;Tr&gt; &lt;Th_colspan=\"2\"&gt; High Commission ...</td>\n",
       "      <td>who is the south african high commissioner in ...</td>\n",
       "      <td>0</td>\n",
       "      <td>-1220107454853145579</td>\n",
       "      <td>18:136</td>\n",
       "      <td>2</td>\n",
       "    </tr>\n",
       "    <tr>\n",
       "      <th>1</th>\n",
       "      <td>&lt;P&gt; South Africa House was built by Holland , ...</td>\n",
       "      <td>who is the south african high commissioner in ...</td>\n",
       "      <td>0</td>\n",
       "      <td>-1220107454853145579</td>\n",
       "      <td>240:336</td>\n",
       "      <td>0</td>\n",
       "    </tr>\n",
       "    <tr>\n",
       "      <th>2</th>\n",
       "      <td>&lt;Tr&gt; &lt;Th&gt; High Commissioner &lt;/Th&gt; &lt;Td&gt; Vacant ...</td>\n",
       "      <td>who is the south african high commissioner in ...</td>\n",
       "      <td>0</td>\n",
       "      <td>-1220107454853145579</td>\n",
       "      <td>126:135</td>\n",
       "      <td>1</td>\n",
       "    </tr>\n",
       "    <tr>\n",
       "      <th>3</th>\n",
       "      <td>&lt;Tr&gt; &lt;Th&gt; Address &lt;/Th&gt; &lt;Td&gt; Trafalgar Square ...</td>\n",
       "      <td>who is the south african high commissioner in ...</td>\n",
       "      <td>0</td>\n",
       "      <td>-1220107454853145579</td>\n",
       "      <td>45:59</td>\n",
       "      <td>0</td>\n",
       "    </tr>\n",
       "    <tr>\n",
       "      <th>4</th>\n",
       "      <td>&lt;P&gt; The first fully free democratic elections ...</td>\n",
       "      <td>who is the south african high commissioner in ...</td>\n",
       "      <td>0</td>\n",
       "      <td>-1220107454853145579</td>\n",
       "      <td>425:488</td>\n",
       "      <td>0</td>\n",
       "    </tr>\n",
       "    <tr>\n",
       "      <th>5</th>\n",
       "      <td>&lt;Tr&gt; &lt;Th&gt; Location &lt;/Th&gt; &lt;Td&gt; Trafalgar Square...</td>\n",
       "      <td>who is the south african high commissioner in ...</td>\n",
       "      <td>0</td>\n",
       "      <td>-1220107454853145579</td>\n",
       "      <td>34:45</td>\n",
       "      <td>0</td>\n",
       "    </tr>\n",
       "    <tr>\n",
       "      <th>6</th>\n",
       "      <td>&lt;Tr&gt; &lt;Th&gt; Coordinates &lt;/Th&gt; &lt;Td&gt; 51 ° 30 ′ 30 ...</td>\n",
       "      <td>who is the south african high commissioner in ...</td>\n",
       "      <td>0</td>\n",
       "      <td>-1220107454853145579</td>\n",
       "      <td>59:126</td>\n",
       "      <td>0</td>\n",
       "    </tr>\n",
       "    <tr>\n",
       "      <th>7</th>\n",
       "      <td>&lt;Tr&gt; &lt;Th_colspan=\"2\"&gt; High Commission of South...</td>\n",
       "      <td>who is the south african high commissioner in ...</td>\n",
       "      <td>0</td>\n",
       "      <td>-1220107454853145579</td>\n",
       "      <td>19:30</td>\n",
       "      <td>1</td>\n",
       "    </tr>\n",
       "    <tr>\n",
       "      <th>8</th>\n",
       "      <td>&lt;P&gt; The High Commission of South Africa in Lon...</td>\n",
       "      <td>who is the south african high commissioner in ...</td>\n",
       "      <td>0</td>\n",
       "      <td>-1220107454853145579</td>\n",
       "      <td>141:211</td>\n",
       "      <td>5</td>\n",
       "    </tr>\n",
       "    <tr>\n",
       "      <th>9</th>\n",
       "      <td>&lt;P&gt; In 1961 , South Africa became a republic ,...</td>\n",
       "      <td>who is the south african high commissioner in ...</td>\n",
       "      <td>0</td>\n",
       "      <td>-1220107454853145579</td>\n",
       "      <td>336:425</td>\n",
       "      <td>1</td>\n",
       "    </tr>\n",
       "    <tr>\n",
       "      <th>10</th>\n",
       "      <td>&lt;P&gt; Today , South Africa House is no longer a ...</td>\n",
       "      <td>who is the south african high commissioner in ...</td>\n",
       "      <td>0</td>\n",
       "      <td>-1220107454853145579</td>\n",
       "      <td>488:570</td>\n",
       "      <td>2</td>\n",
       "    </tr>\n",
       "  </tbody>\n",
       "</table>\n",
       "</div>"
      ],
      "text/plain": [
       "                                            paragraph  \\\n",
       "0   <Table> <Tr> <Th_colspan=\"2\"> High Commission ...   \n",
       "1   <P> South Africa House was built by Holland , ...   \n",
       "2   <Tr> <Th> High Commissioner </Th> <Td> Vacant ...   \n",
       "3   <Tr> <Th> Address </Th> <Td> Trafalgar Square ...   \n",
       "4   <P> The first fully free democratic elections ...   \n",
       "5   <Tr> <Th> Location </Th> <Td> Trafalgar Square...   \n",
       "6   <Tr> <Th> Coordinates </Th> <Td> 51 ° 30 ′ 30 ...   \n",
       "7   <Tr> <Th_colspan=\"2\"> High Commission of South...   \n",
       "8   <P> The High Commission of South Africa in Lon...   \n",
       "9   <P> In 1961 , South Africa became a republic ,...   \n",
       "10  <P> Today , South Africa House is no longer a ...   \n",
       "\n",
       "                                             question  is_answer  \\\n",
       "0   who is the south african high commissioner in ...          0   \n",
       "1   who is the south african high commissioner in ...          0   \n",
       "2   who is the south african high commissioner in ...          0   \n",
       "3   who is the south african high commissioner in ...          0   \n",
       "4   who is the south african high commissioner in ...          0   \n",
       "5   who is the south african high commissioner in ...          0   \n",
       "6   who is the south african high commissioner in ...          0   \n",
       "7   who is the south african high commissioner in ...          0   \n",
       "8   who is the south african high commissioner in ...          0   \n",
       "9   who is the south african high commissioner in ...          0   \n",
       "10  who is the south african high commissioner in ...          0   \n",
       "\n",
       "             example_id PredictionString  bigrams  \n",
       "0  -1220107454853145579           18:136        2  \n",
       "1  -1220107454853145579          240:336        0  \n",
       "2  -1220107454853145579          126:135        1  \n",
       "3  -1220107454853145579            45:59        0  \n",
       "4  -1220107454853145579          425:488        0  \n",
       "5  -1220107454853145579            34:45        0  \n",
       "6  -1220107454853145579           59:126        0  \n",
       "7  -1220107454853145579            19:30        1  \n",
       "8  -1220107454853145579          141:211        5  \n",
       "9  -1220107454853145579          336:425        1  \n",
       "10 -1220107454853145579          488:570        2  "
      ]
     },
     "execution_count": 171,
     "metadata": {},
     "output_type": "execute_result"
    }
   ],
   "source": [
    "long_df_test.loc[long_df_test.example_id == -1220107454853145579]"
   ]
  },
  {
   "cell_type": "code",
   "execution_count": 97,
   "metadata": {
    "collapsed": true
   },
   "outputs": [],
   "source": [
    "# save dataset\n",
    "long_df_test.to_csv(path+\"long_df_submission.csv\",index=False)"
   ]
  },
  {
   "cell_type": "markdown",
   "metadata": {},
   "source": [
    "### Prepare a clean dataset(for short answer only)\n",
    "Each row is a paragraph and a question and a short answer in text."
   ]
  },
  {
   "cell_type": "code",
   "execution_count": 312,
   "metadata": {
    "collapsed": true
   },
   "outputs": [],
   "source": [
    "COLUMNS_SHORT = [\"paragraph\",\"question\",\"is_answer\",\"example_id\"]"
   ]
  },
  {
   "cell_type": "code",
   "execution_count": 313,
   "metadata": {
    "collapsed": true
   },
   "outputs": [],
   "source": [
    "def process_df_for_short(df):\n",
    "    def process_row(row):\n",
    "        ids = row.example_id\n",
    "        q = row.question_text\n",
    "        p = row.document_text.split()\n",
    "        \n",
    "\n",
    "        rows_to_add = []\n",
    "        short_answer_list = row.annotations[0]['short_answers']\n",
    "        if len(short_answer_list) == 0:\n",
    "            if row.annotations[0]['yes_no_answer'] != 'NONE':\n",
    "                answer_text= row.annotations[0]['yes_no_answer']\n",
    "                # short answer source paragraph:\n",
    "                long_answer_dict = row.annotations[0]['long_answer']\n",
    "                candidate_text = \" \".join(p[long_answer_dict['start_token']:long_answer_dict['end_token']])\n",
    "\n",
    "                rows_to_add.append([candidate_text, q, answer_text, ids])\n",
    "             \n",
    "        else:\n",
    "            # short answer source paragraph:\n",
    "            long_answer_dict = row.annotations[0]['long_answer']\n",
    "            candidate_text = \" \".join(p[long_answer_dict['start_token']:long_answer_dict['end_token']])\n",
    "\n",
    "            for short_answer in short_answer_list: \n",
    "                answer_text = \" \".join(p[short_answer['start_token']:short_answer['end_token']])\n",
    "\n",
    "                rows_to_add.append([candidate_text, q, answer_text, ids])\n",
    "       \n",
    "        \n",
    "        \n",
    "        temp_df = pd.DataFrame(rows_to_add,columns=COLUMNS_SHORT)    \n",
    "        return temp_df\n",
    "            \n",
    "    \n",
    "    \n",
    "    temp_df_list = []\n",
    "    for _, row in df.iterrows():\n",
    "        temp_df_list.append(process_row(row))\n",
    "        \n",
    "    \n",
    "    # concatenate all at the very end\n",
    "    return pd.concat(temp_df_list,ignore_index=True)   "
   ]
  },
  {
   "cell_type": "code",
   "execution_count": 235,
   "metadata": {},
   "outputs": [
    {
     "name": "stdout",
     "output_type": "stream",
     "text": [
      "short_df dimension:  (3050, 4)\n"
     ]
    }
   ],
   "source": [
    "short_df = process_df_for_short(train)\n",
    "print(\"short_df dimension: \", short_df.shape )"
   ]
  },
  {
   "cell_type": "code",
   "execution_count": 6,
   "metadata": {},
   "outputs": [
    {
     "data": {
      "text/html": [
       "<div>\n",
       "<style scoped>\n",
       "    .dataframe tbody tr th:only-of-type {\n",
       "        vertical-align: middle;\n",
       "    }\n",
       "\n",
       "    .dataframe tbody tr th {\n",
       "        vertical-align: top;\n",
       "    }\n",
       "\n",
       "    .dataframe thead th {\n",
       "        text-align: right;\n",
       "    }\n",
       "</style>\n",
       "<table border=\"1\" class=\"dataframe\">\n",
       "  <thead>\n",
       "    <tr style=\"text-align: right;\">\n",
       "      <th></th>\n",
       "      <th>paragraph</th>\n",
       "      <th>question</th>\n",
       "      <th>is_answer</th>\n",
       "      <th>example_id</th>\n",
       "    </tr>\n",
       "  </thead>\n",
       "  <tbody>\n",
       "    <tr>\n",
       "      <th>0</th>\n",
       "      <td>&lt;P&gt; A common example of permission marketing i...</td>\n",
       "      <td>which is the most common use of opt-in e-mail ...</td>\n",
       "      <td>a newsletter sent to an advertising firm 's cu...</td>\n",
       "      <td>5655493461695504401</td>\n",
       "    </tr>\n",
       "    <tr>\n",
       "      <th>1</th>\n",
       "      <td>&lt;P&gt; Tracy McConnell , better known as `` The M...</td>\n",
       "      <td>how i.met your mother who is the mother</td>\n",
       "      <td>Tracy McConnell</td>\n",
       "      <td>5328212470870865242</td>\n",
       "    </tr>\n",
       "    <tr>\n",
       "      <th>2</th>\n",
       "      <td>&lt;P&gt; Active quarterback Tom Brady holds the rec...</td>\n",
       "      <td>who had the most wins in the nfl</td>\n",
       "      <td>Tom Brady</td>\n",
       "      <td>5289242154789678439</td>\n",
       "    </tr>\n",
       "    <tr>\n",
       "      <th>3</th>\n",
       "      <td>&lt;P&gt; Pom Klementieff ( born 3 May 1986 ) is a F...</td>\n",
       "      <td>who played mantis guardians of the galaxy 2</td>\n",
       "      <td>Pom Klementieff</td>\n",
       "      <td>-2500044561429484630</td>\n",
       "    </tr>\n",
       "    <tr>\n",
       "      <th>4</th>\n",
       "      <td>&lt;P&gt; In the early 1960s , the Nashville sound b...</td>\n",
       "      <td>the nashville sound brought a polished and cos...</td>\n",
       "      <td>the use of lush string arrangements with a rea...</td>\n",
       "      <td>212419696952141239</td>\n",
       "    </tr>\n",
       "  </tbody>\n",
       "</table>\n",
       "</div>"
      ],
      "text/plain": [
       "                                           paragraph  \\\n",
       "0  <P> A common example of permission marketing i...   \n",
       "1  <P> Tracy McConnell , better known as `` The M...   \n",
       "2  <P> Active quarterback Tom Brady holds the rec...   \n",
       "3  <P> Pom Klementieff ( born 3 May 1986 ) is a F...   \n",
       "4  <P> In the early 1960s , the Nashville sound b...   \n",
       "\n",
       "                                            question  \\\n",
       "0  which is the most common use of opt-in e-mail ...   \n",
       "1            how i.met your mother who is the mother   \n",
       "2                   who had the most wins in the nfl   \n",
       "3        who played mantis guardians of the galaxy 2   \n",
       "4  the nashville sound brought a polished and cos...   \n",
       "\n",
       "                                           is_answer            example_id  \n",
       "0  a newsletter sent to an advertising firm 's cu...   5655493461695504401  \n",
       "1                                    Tracy McConnell   5328212470870865242  \n",
       "2                                          Tom Brady   5289242154789678439  \n",
       "3                                    Pom Klementieff  -2500044561429484630  \n",
       "4  the use of lush string arrangements with a rea...    212419696952141239  "
      ]
     },
     "execution_count": 6,
     "metadata": {},
     "output_type": "execute_result"
    }
   ],
   "source": [
    "short_df.head()"
   ]
  },
  {
   "cell_type": "code",
   "execution_count": 103,
   "metadata": {},
   "outputs": [
    {
     "data": {
      "text/plain": [
       "\"<P> The 1941 song features lyrics by June Hershey and music by Don Swander . There were no fewer than five versions in the Billboard charts in 1942 . `` Deep in the Heart of Texas '' spent five weeks at the top of Your Hit Parade in 1942 during its twelve weeks stay . </P>\""
      ]
     },
     "execution_count": 103,
     "metadata": {},
     "output_type": "execute_result"
    }
   ],
   "source": [
    "short_df.iloc[13263,0]"
   ]
  },
  {
   "cell_type": "code",
   "execution_count": 7,
   "metadata": {
    "collapsed": true
   },
   "outputs": [],
   "source": [
    "short_df.to_csv(path+\"short_df_60kobs.csv\",index=False)"
   ]
  },
  {
   "cell_type": "markdown",
   "metadata": {},
   "source": [
    "### Answer type prediction: is this a YES/NO question?"
   ]
  },
  {
   "cell_type": "code",
   "execution_count": 242,
   "metadata": {
    "collapsed": true
   },
   "outputs": [],
   "source": [
    "# first 60k + last 60k > yesno only, resulting in 1505 obs\n",
    "yes_no = pd.read_csv(path+\"yesno_df_1kobs.csv\")"
   ]
  },
  {
   "cell_type": "code",
   "execution_count": 243,
   "metadata": {},
   "outputs": [
    {
     "data": {
      "text/plain": [
       "(1505, 4)"
      ]
     },
     "execution_count": 243,
     "metadata": {},
     "output_type": "execute_result"
    }
   ],
   "source": [
    "yes_no.shape"
   ]
  },
  {
   "cell_type": "code",
   "execution_count": 199,
   "metadata": {},
   "outputs": [
    {
     "data": {
      "text/plain": [
       "array(['is', 'ok', 'do', 'xbox', 'any', 'are', 'can', 'jumanji', 'does',\n",
       "       'did', 'was', 'will', 'what', 'my', 'available', 'phase', 'the',\n",
       "       'dialup', 'st', 'cells', 'cohesion', 'product', 'lps', 'earth',\n",
       "       'in', 'stakeholder', 'who', 'kansas', 'changes', 'has',\n",
       "       'planetary', 'tonari', 'legal', 'if', 'have', 'one', 'when', 'i',\n",
       "       'beri', 'apsara', 'inflation', 'a', 'according', 'hydonephrosis',\n",
       "       'english', 'electroplating', 'downton', 'could', 'footnote',\n",
       "       'were', 'mortal', '99', 'new', 'delphi', 'originally', '1945',\n",
       "       'quantum', 'interphase', 'euromillions', 'why', 'okinawa',\n",
       "       'sequence', 'victoria', 'onflict', 'italy', 'yu', '3'],\n",
       "      dtype=object)"
      ]
     },
     "execution_count": 199,
     "metadata": {},
     "output_type": "execute_result"
    }
   ],
   "source": [
    "# get the first one/two words of the question\n",
    "yes_no.question.str.split().str.get(0).unique() #[0:2]"
   ]
  },
  {
   "cell_type": "code",
   "execution_count": null,
   "metadata": {
    "collapsed": true
   },
   "outputs": [],
   "source": [
    "# fast rule based:\n",
    "start_mark = ['is','are','was','were','can','could','does','did','do','will','would','any',\n",
    "              'have','has','should']\n"
   ]
  },
  {
   "cell_type": "markdown",
   "metadata": {},
   "source": [
    "### YES/NO question"
   ]
  },
  {
   "cell_type": "code",
   "execution_count": 244,
   "metadata": {},
   "outputs": [
    {
     "data": {
      "text/html": [
       "<div>\n",
       "<style scoped>\n",
       "    .dataframe tbody tr th:only-of-type {\n",
       "        vertical-align: middle;\n",
       "    }\n",
       "\n",
       "    .dataframe tbody tr th {\n",
       "        vertical-align: top;\n",
       "    }\n",
       "\n",
       "    .dataframe thead th {\n",
       "        text-align: right;\n",
       "    }\n",
       "</style>\n",
       "<table border=\"1\" class=\"dataframe\">\n",
       "  <thead>\n",
       "    <tr style=\"text-align: right;\">\n",
       "      <th></th>\n",
       "      <th>paragraph</th>\n",
       "      <th>question</th>\n",
       "      <th>is_answer</th>\n",
       "      <th>example_id</th>\n",
       "    </tr>\n",
       "  </thead>\n",
       "  <tbody>\n",
       "    <tr>\n",
       "      <th>0</th>\n",
       "      <td>&lt;P&gt; Beauty and the Beast is a 1991 American an...</td>\n",
       "      <td>is beauty and the beast a disney movie</td>\n",
       "      <td>YES</td>\n",
       "      <td>-2478107407324283570</td>\n",
       "    </tr>\n",
       "    <tr>\n",
       "      <th>1</th>\n",
       "      <td>&lt;P&gt; Washington ( / ˈwɒʃɪŋtən / ( listen ) ) , ...</td>\n",
       "      <td>is seattle washington the same as washington dc</td>\n",
       "      <td>NO</td>\n",
       "      <td>1875979215628203642</td>\n",
       "    </tr>\n",
       "    <tr>\n",
       "      <th>2</th>\n",
       "      <td>&lt;P&gt; In 1952 , upon U.S. Congress approving the...</td>\n",
       "      <td>if you are born in puerto rico are you an amer...</td>\n",
       "      <td>YES</td>\n",
       "      <td>-9010340742213717410</td>\n",
       "    </tr>\n",
       "    <tr>\n",
       "      <th>3</th>\n",
       "      <td>&lt;P&gt; Alpha Centauri is the name given to what a...</td>\n",
       "      <td>can you see alpha centauri without a telescope</td>\n",
       "      <td>YES</td>\n",
       "      <td>3892799676719974073</td>\n",
       "    </tr>\n",
       "    <tr>\n",
       "      <th>4</th>\n",
       "      <td>&lt;P&gt; She attended Marymount High School , a Rom...</td>\n",
       "      <td>have any of the kardashians graduated from col...</td>\n",
       "      <td>YES</td>\n",
       "      <td>2143141820387949174</td>\n",
       "    </tr>\n",
       "  </tbody>\n",
       "</table>\n",
       "</div>"
      ],
      "text/plain": [
       "                                           paragraph  \\\n",
       "0  <P> Beauty and the Beast is a 1991 American an...   \n",
       "1  <P> Washington ( / ˈwɒʃɪŋtən / ( listen ) ) , ...   \n",
       "2  <P> In 1952 , upon U.S. Congress approving the...   \n",
       "3  <P> Alpha Centauri is the name given to what a...   \n",
       "4  <P> She attended Marymount High School , a Rom...   \n",
       "\n",
       "                                            question is_answer  \\\n",
       "0             is beauty and the beast a disney movie       YES   \n",
       "1    is seattle washington the same as washington dc        NO   \n",
       "2  if you are born in puerto rico are you an amer...       YES   \n",
       "3     can you see alpha centauri without a telescope       YES   \n",
       "4  have any of the kardashians graduated from col...       YES   \n",
       "\n",
       "            example_id  \n",
       "0 -2478107407324283570  \n",
       "1  1875979215628203642  \n",
       "2 -9010340742213717410  \n",
       "3  3892799676719974073  \n",
       "4  2143141820387949174  "
      ]
     },
     "execution_count": 244,
     "metadata": {},
     "output_type": "execute_result"
    }
   ],
   "source": [
    "# using last 60k directly from short_df_60kobs.csv\n",
    "yes_no.head()"
   ]
  },
  {
   "cell_type": "code",
   "execution_count": 237,
   "metadata": {},
   "outputs": [
    {
     "data": {
      "text/plain": [
       "(3050, 4)"
      ]
     },
     "execution_count": 237,
     "metadata": {},
     "output_type": "execute_result"
    }
   ],
   "source": [
    "# using first 500k read from early cells\n",
    "short_df = process_df_for_short(train)\n",
    "print(\"short_df dimension: \", short_df.shape )\n",
    "\n",
    "yes_no_half = short_df.loc[(short_df.is_answer == \"NO\") | (short_df.is_answer == \"YES\")]  \n",
    "yes_no_half.shape"
   ]
  },
  {
   "cell_type": "code",
   "execution_count": 245,
   "metadata": {},
   "outputs": [
    {
     "data": {
      "text/html": [
       "<div>\n",
       "<style scoped>\n",
       "    .dataframe tbody tr th:only-of-type {\n",
       "        vertical-align: middle;\n",
       "    }\n",
       "\n",
       "    .dataframe tbody tr th {\n",
       "        vertical-align: top;\n",
       "    }\n",
       "\n",
       "    .dataframe thead th {\n",
       "        text-align: right;\n",
       "    }\n",
       "</style>\n",
       "<table border=\"1\" class=\"dataframe\">\n",
       "  <thead>\n",
       "    <tr style=\"text-align: right;\">\n",
       "      <th></th>\n",
       "      <th>paragraph</th>\n",
       "      <th>question</th>\n",
       "      <th>is_answer</th>\n",
       "      <th>example_id</th>\n",
       "    </tr>\n",
       "  </thead>\n",
       "  <tbody>\n",
       "    <tr>\n",
       "      <th>0</th>\n",
       "      <td>&lt;P&gt; A ten - episode first season premiered on ...</td>\n",
       "      <td>is there a season 3 of berlin station</td>\n",
       "      <td>YES</td>\n",
       "      <td>8609375096218900192</td>\n",
       "    </tr>\n",
       "    <tr>\n",
       "      <th>1</th>\n",
       "      <td>&lt;P&gt; In the United States , most states give th...</td>\n",
       "      <td>do inmates on death row get a last meal</td>\n",
       "      <td>YES</td>\n",
       "      <td>8373555261004214536</td>\n",
       "    </tr>\n",
       "    <tr>\n",
       "      <th>2</th>\n",
       "      <td>&lt;P&gt; Me Before You is a romance novel written b...</td>\n",
       "      <td>is me before you a nicholas sparks movie</td>\n",
       "      <td>NO</td>\n",
       "      <td>-8152629601596147239</td>\n",
       "    </tr>\n",
       "    <tr>\n",
       "      <th>3</th>\n",
       "      <td>&lt;P&gt; During a divination session , the shell or...</td>\n",
       "      <td>oracle bones were used by the chinese to tell ...</td>\n",
       "      <td>YES</td>\n",
       "      <td>5263528727398180840</td>\n",
       "    </tr>\n",
       "    <tr>\n",
       "      <th>4</th>\n",
       "      <td>&lt;Table&gt; &lt;Tr&gt; &lt;Th&gt; Rank &lt;/Th&gt; &lt;Th&gt; Company &lt;/Th...</td>\n",
       "      <td>is axa the biggest insurance company in the world</td>\n",
       "      <td>YES</td>\n",
       "      <td>-6045284519928297723</td>\n",
       "    </tr>\n",
       "  </tbody>\n",
       "</table>\n",
       "</div>"
      ],
      "text/plain": [
       "                                           paragraph  \\\n",
       "0  <P> A ten - episode first season premiered on ...   \n",
       "1  <P> In the United States , most states give th...   \n",
       "2  <P> Me Before You is a romance novel written b...   \n",
       "3  <P> During a divination session , the shell or...   \n",
       "4  <Table> <Tr> <Th> Rank </Th> <Th> Company </Th...   \n",
       "\n",
       "                                            question is_answer  \\\n",
       "0              is there a season 3 of berlin station       YES   \n",
       "1            do inmates on death row get a last meal       YES   \n",
       "2           is me before you a nicholas sparks movie        NO   \n",
       "3  oracle bones were used by the chinese to tell ...       YES   \n",
       "4  is axa the biggest insurance company in the world       YES   \n",
       "\n",
       "            example_id  \n",
       "0  8609375096218900192  \n",
       "1  8373555261004214536  \n",
       "2 -8152629601596147239  \n",
       "3  5263528727398180840  \n",
       "4 -6045284519928297723  "
      ]
     },
     "execution_count": 245,
     "metadata": {},
     "output_type": "execute_result"
    }
   ],
   "source": [
    "yes_no_half.head()"
   ]
  },
  {
   "cell_type": "code",
   "execution_count": 246,
   "metadata": {
    "collapsed": true
   },
   "outputs": [],
   "source": [
    "yes_no_all = yes_no_half.append(yes_no)"
   ]
  },
  {
   "cell_type": "code",
   "execution_count": 247,
   "metadata": {},
   "outputs": [
    {
     "data": {
      "text/plain": [
       "(4555, 4)"
      ]
     },
     "execution_count": 247,
     "metadata": {},
     "output_type": "execute_result"
    }
   ],
   "source": [
    "yes_no_all.shape"
   ]
  },
  {
   "cell_type": "code",
   "execution_count": 248,
   "metadata": {
    "collapsed": true
   },
   "outputs": [],
   "source": [
    "yes_no_all.to_csv(path+\"yesno_df_4kobs.csv\",index=False)"
   ]
  },
  {
   "cell_type": "markdown",
   "metadata": {},
   "source": [
    "### Playground"
   ]
  },
  {
   "cell_type": "code",
   "execution_count": 318,
   "metadata": {
    "collapsed": true
   },
   "outputs": [],
   "source": [
    "ind = 14027\n",
    "annotations_0 = train['annotations'][ind ][0]\n",
    "document_text_0 = train.loc[ind , 'document_text'].split()"
   ]
  },
  {
   "cell_type": "code",
   "execution_count": 319,
   "metadata": {},
   "outputs": [
    {
     "data": {
      "text/plain": [
       "'https://en.wikipedia.org//w/index.php?title=Gossip_Girl_(season_3)&amp;oldid=854719971'"
      ]
     },
     "execution_count": 319,
     "metadata": {},
     "output_type": "execute_result"
    }
   ],
   "source": [
    "train.iloc[ind ,2]"
   ]
  },
  {
   "cell_type": "code",
   "execution_count": 320,
   "metadata": {},
   "outputs": [
    {
     "data": {
      "text/plain": [
       "'when do serena and nate date in gossip girl'"
      ]
     },
     "execution_count": 320,
     "metadata": {},
     "output_type": "execute_result"
    }
   ],
   "source": [
    "train.iloc[ind ,-1]"
   ]
  },
  {
   "cell_type": "code",
   "execution_count": 321,
   "metadata": {},
   "outputs": [
    {
     "data": {
      "text/plain": [
       "{'yes_no_answer': 'NONE',\n",
       " 'long_answer': {'start_token': 3186,\n",
       "  'candidate_index': 99,\n",
       "  'end_token': 3225},\n",
       " 'short_answers': [{'start_token': 3195, 'end_token': 3199}],\n",
       " 'annotation_id': 13293865423131124179}"
      ]
     },
     "execution_count": 321,
     "metadata": {},
     "output_type": "execute_result"
    }
   ],
   "source": [
    "annotations_0 "
   ]
  },
  {
   "cell_type": "code",
   "execution_count": 322,
   "metadata": {},
   "outputs": [
    {
     "name": "stdout",
     "output_type": "stream",
     "text": [
      "Our short answer is :  The Hurt Locket ''\n"
     ]
    }
   ],
   "source": [
    "print('Our short answer is : ', \" \".join(document_text_0[annotations_0['short_answers'][0]['start_token']:annotations_0['short_answers'][0]['end_token']]))"
   ]
  },
  {
   "cell_type": "code",
   "execution_count": 323,
   "metadata": {},
   "outputs": [
    {
     "name": "stdout",
     "output_type": "stream",
     "text": [
      "Our long answer is :  <Tr> <Th> 56 </Th> <Td> 13 </Td> <Td> `` The Hurt Locket '' </Td> <Td> Tony Wharmby </Td> <Td> Sara Goodman </Td> <Td> March 8 , 2010 ( 2010 - 03 - 08 ) </Td> <Td> 1.74 </Td> </Tr>\n"
     ]
    }
   ],
   "source": [
    "print('Our long answer is : ', \" \".join(document_text_0[annotations_0['long_answer']['start_token']:annotations_0['long_answer']['end_token']]))"
   ]
  },
  {
   "cell_type": "code",
   "execution_count": 55,
   "metadata": {},
   "outputs": [
    {
     "data": {
      "text/html": [
       "<div>\n",
       "<style scoped>\n",
       "    .dataframe tbody tr th:only-of-type {\n",
       "        vertical-align: middle;\n",
       "    }\n",
       "\n",
       "    .dataframe tbody tr th {\n",
       "        vertical-align: top;\n",
       "    }\n",
       "\n",
       "    .dataframe thead th {\n",
       "        text-align: right;\n",
       "    }\n",
       "</style>\n",
       "<table border=\"1\" class=\"dataframe\">\n",
       "  <thead>\n",
       "    <tr style=\"text-align: right;\">\n",
       "      <th></th>\n",
       "      <th>annotations</th>\n",
       "      <th>document_text</th>\n",
       "      <th>document_url</th>\n",
       "      <th>example_id</th>\n",
       "      <th>long_answer_candidates</th>\n",
       "      <th>question_text</th>\n",
       "    </tr>\n",
       "  </thead>\n",
       "  <tbody>\n",
       "    <tr>\n",
       "      <th>1</th>\n",
       "      <td>[{'yes_no_answer': 'NONE', 'long_answer': {'st...</td>\n",
       "      <td>London Underground - wikipedia &lt;H1&gt; London Und...</td>\n",
       "      <td>https://en.wikipedia.org//w/index.php?title=Lo...</td>\n",
       "      <td>8778323820284358127</td>\n",
       "      <td>[{'start_token': 14617, 'top_level': False, 'e...</td>\n",
       "      <td>which was the first tube station in london</td>\n",
       "    </tr>\n",
       "  </tbody>\n",
       "</table>\n",
       "</div>"
      ],
      "text/plain": [
       "                                         annotations  \\\n",
       "1  [{'yes_no_answer': 'NONE', 'long_answer': {'st...   \n",
       "\n",
       "                                       document_text  \\\n",
       "1  London Underground - wikipedia <H1> London Und...   \n",
       "\n",
       "                                        document_url           example_id  \\\n",
       "1  https://en.wikipedia.org//w/index.php?title=Lo...  8778323820284358127   \n",
       "\n",
       "                              long_answer_candidates  \\\n",
       "1  [{'start_token': 14617, 'top_level': False, 'e...   \n",
       "\n",
       "                                question_text  \n",
       "1  which was the first tube station in london  "
      ]
     },
     "execution_count": 55,
     "metadata": {},
     "output_type": "execute_result"
    }
   ],
   "source": [
    "train[train.example_id==8778323820284358127]"
   ]
  },
  {
   "cell_type": "code",
   "execution_count": 284,
   "metadata": {},
   "outputs": [
    {
     "data": {
      "text/html": [
       "<div>\n",
       "<style scoped>\n",
       "    .dataframe tbody tr th:only-of-type {\n",
       "        vertical-align: middle;\n",
       "    }\n",
       "\n",
       "    .dataframe tbody tr th {\n",
       "        vertical-align: top;\n",
       "    }\n",
       "\n",
       "    .dataframe thead th {\n",
       "        text-align: right;\n",
       "    }\n",
       "</style>\n",
       "<table border=\"1\" class=\"dataframe\">\n",
       "  <thead>\n",
       "    <tr style=\"text-align: right;\">\n",
       "      <th></th>\n",
       "      <th>annotations</th>\n",
       "      <th>document_text</th>\n",
       "      <th>document_url</th>\n",
       "      <th>example_id</th>\n",
       "      <th>long_answer_candidates</th>\n",
       "      <th>question_text</th>\n",
       "    </tr>\n",
       "  </thead>\n",
       "  <tbody>\n",
       "    <tr>\n",
       "      <th>1985</th>\n",
       "      <td>[{'yes_no_answer': 'NO', 'long_answer': {'star...</td>\n",
       "      <td>The holly and the ivy - wikipedia &lt;H1&gt; The hol...</td>\n",
       "      <td>https://en.wikipedia.org//w/index.php?title=Th...</td>\n",
       "      <td>-83423128080310398</td>\n",
       "      <td>[{'start_token': 41, 'top_level': True, 'end_t...</td>\n",
       "      <td>is the holly and the ivy a hymn</td>\n",
       "    </tr>\n",
       "  </tbody>\n",
       "</table>\n",
       "</div>"
      ],
      "text/plain": [
       "                                            annotations  \\\n",
       "1985  [{'yes_no_answer': 'NO', 'long_answer': {'star...   \n",
       "\n",
       "                                          document_text  \\\n",
       "1985  The holly and the ivy - wikipedia <H1> The hol...   \n",
       "\n",
       "                                           document_url         example_id  \\\n",
       "1985  https://en.wikipedia.org//w/index.php?title=Th... -83423128080310398   \n",
       "\n",
       "                                 long_answer_candidates  \\\n",
       "1985  [{'start_token': 41, 'top_level': True, 'end_t...   \n",
       "\n",
       "                        question_text  \n",
       "1985  is the holly and the ivy a hymn  "
      ]
     },
     "execution_count": 284,
     "metadata": {},
     "output_type": "execute_result"
    }
   ],
   "source": [
    "train[train.example_id==-83423128080310398]#.annotations.values[0]#['long_answer']"
   ]
  },
  {
   "cell_type": "code",
   "execution_count": 277,
   "metadata": {},
   "outputs": [
    {
     "data": {
      "text/plain": [
       "'<Table> <Tr> <Th_colspan=\"2\"> Iss Pyaar Ko Kya Naam Doon ? </Th> </Tr> <Tr> <Td_colspan=\"2\"> </Td> </Tr> <Tr> <Th> Genre </Th> <Td> Drama Romantic Comedy </Td> </Tr> <Tr> <Th> Written by </Th> <Td> <Ul> <Li> Aakash Pandey </Li> <Li> Ved Raj </Li> <Li> Sudhir Kumar </Li> <Li> Gautam Hegde </Li> <Li> Janaki VV </Li> <Li> Barry Dhillon </Li> <Li> Hitesh Kewalya </Li> <Li> Ritesh Shah </Li> <Li> Jainesh Ejardar </Li> <Li> Shilpa D\\'Mello </Li> <Li> Shweta Bhardwaj </Li> </Ul> </Td> </Tr> <Tr> <Th> Directed by </Th> <Td> <Ul> <Li> Nissar Parvez </Li> <Li> Maan Singh </Li> <Li> Arshad Khan </Li> <Li> Lalit Mohan </Li> </Ul> </Td> </Tr> <Tr> <Th> Creative director ( s ) </Th> <Td> <Ul> <Li> Madhura Rapsang </Li> <Li> Megha S. Kumar </Li> <Li> Shivangi V Chauhan Babbar </Li> <Li> Richa Singh Gautam </Li> </Ul> </Td> </Tr> <Tr> <Th> Starring </Th> <Td> <Ul> <Li> Barun Sobti </Li> <Li> Sanaya Irani </Li> </Ul> </Td> </Tr> <Tr> <Th> Theme music composer </Th> <Td> Raju Singh </Td> </Tr> <Tr> <Th> Opening theme </Th> <Td> `` Iss Pyaar Ko Kya Naam Doon ? \\'\\' By Sadhana Sargam and Javed Ali </Td> </Tr> <Tr> <Th> Country of origin </Th> <Td> India </Td> </Tr> <Tr> <Th> Original language ( s ) </Th> <Td> Hindi </Td> </Tr> <Tr> <Th> No. of seasons </Th> <Td> </Td> </Tr> <Tr> <Th> No. of episodes </Th> <Td> 398 </Td> </Tr> <Tr> <Th_colspan=\"2\"> Production </Th> </Tr> <Tr> <Th> Producer ( s ) </Th> <Td> <Ul> <Li> Gul Khan </Li> <Li> Nissar Parvez </Li> <Li> Rajesh Chadha </Li> </Ul> </Td> </Tr> <Tr> <Th> Cinematography </Th> <Td> Hrishikesh Gandhi </Td> </Tr> <Tr> <Th> Camera setup </Th> <Td> Multi-camera </Td> </Tr> <Tr> <Th> Running time </Th> <Td> 20 minutes </Td> </Tr> <Tr> <Th> Production company ( s ) </Th> <Td> 4 Lions Films </Td> </Tr> <Tr> <Th_colspan=\"2\"> Release </Th> </Tr> <Tr> <Th> Original network </Th> <Td> Star Plus </Td> </Tr> <Tr> <Th> Picture format </Th> <Td> 720i ( SDTV ) 1080i ( HDTV ) </Td> </Tr> <Tr> <Th> Original release </Th> <Td> Television Series 6 June 2011 ( 2011 - 06 - 06 ) -- 30 November 2012 ( 2012 - 11 - 30 ) Web Series 24 November 2015 ( 2015 - 11 - 24 ) -- 15 December 2015 ( 2015 - 12 - 15 ) </Td> </Tr> <Tr> <Th_colspan=\"2\"> External links </Th> </Tr> <Tr> <Td_colspan=\"2\"> Website </Td> </Tr> </Table>'"
      ]
     },
     "execution_count": 277,
     "metadata": {},
     "output_type": "execute_result"
    }
   ],
   "source": [
    "yes_no_all.iloc[10,0]"
   ]
  },
  {
   "cell_type": "code",
   "execution_count": 278,
   "metadata": {},
   "outputs": [
    {
     "data": {
      "text/plain": [
       "question     is pyar ko kya naam doon serial in hindi\n",
       "is_answer                                         YES\n",
       "Name: 10, dtype: object"
      ]
     },
     "execution_count": 278,
     "metadata": {},
     "output_type": "execute_result"
    }
   ],
   "source": [
    "yes_no_all.iloc[10,1:3]"
   ]
  },
  {
   "cell_type": "code",
   "execution_count": 324,
   "metadata": {},
   "outputs": [
    {
     "data": {
      "text/plain": [
       "'https://en.wikipedia.org//w/index.php?title=Gossip_Girl_(season_3)&amp;oldid=854719971'"
      ]
     },
     "execution_count": 324,
     "metadata": {},
     "output_type": "execute_result"
    }
   ],
   "source": [
    "train[train.example_id == -5170350029853575282].iloc[0,2]"
   ]
  },
  {
   "cell_type": "code",
   "execution_count": 309,
   "metadata": {},
   "outputs": [
    {
     "data": {
      "text/plain": [
       "(3798, 6)"
      ]
     },
     "execution_count": 309,
     "metadata": {},
     "output_type": "execute_result"
    }
   ],
   "source": [
    "train.shape"
   ]
  },
  {
   "cell_type": "code",
   "execution_count": null,
   "metadata": {
    "collapsed": true
   },
   "outputs": [],
   "source": []
  }
 ],
 "metadata": {
  "kernelspec": {
   "display_name": "Python 3",
   "language": "python",
   "name": "python3"
  },
  "language_info": {
   "codemirror_mode": {
    "name": "ipython",
    "version": 3
   },
   "file_extension": ".py",
   "mimetype": "text/x-python",
   "name": "python",
   "nbconvert_exporter": "python",
   "pygments_lexer": "ipython3",
   "version": "3.6.6"
  }
 },
 "nbformat": 4,
 "nbformat_minor": 2
}
